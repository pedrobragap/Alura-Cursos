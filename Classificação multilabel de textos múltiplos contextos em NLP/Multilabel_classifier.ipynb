{
 "cells": [
  {
   "cell_type": "code",
   "execution_count": 27,
   "source": [
    "import pandas as pd\r\n",
    "\r\n",
    "df = pd.read_csv(\"stackoverflow_perguntas.csv\")\r\n",
    "df.sample(10)"
   ],
   "outputs": [
    {
     "output_type": "execute_result",
     "data": {
      "text/plain": [
       "                                              Perguntas          Tags\n",
       "515   Tenho montado a seguinte estrutura em HTML:  C...   jquery html\n",
       "572   Como fazer um efeito em jQuery, que quando use...  jquery html \n",
       "183   Estou usando o plugin jQuery Validate para val...         html \n",
       "1404  Estou fazendo um template e preciso colocar a ...          html\n",
       "1187  Estou criando um JS para executar o código com...   jquery html\n",
       "4309  No PHP, podemos converter uma quebra de linha ...          html\n",
       "1312  Estou migrando um projeto e o mesmo possuía al...      angular \n",
       "5009  Boa noite! Estou tentando consumir uma API uti...        jquery\n",
       "2659  Estive a fazer uma pesquisa em PT e EN sobre c...          html\n",
       "4691  Por exemplo, tenho uma CODE  dentro de uma var...          html"
      ],
      "text/html": [
       "<div>\n",
       "<style scoped>\n",
       "    .dataframe tbody tr th:only-of-type {\n",
       "        vertical-align: middle;\n",
       "    }\n",
       "\n",
       "    .dataframe tbody tr th {\n",
       "        vertical-align: top;\n",
       "    }\n",
       "\n",
       "    .dataframe thead th {\n",
       "        text-align: right;\n",
       "    }\n",
       "</style>\n",
       "<table border=\"1\" class=\"dataframe\">\n",
       "  <thead>\n",
       "    <tr style=\"text-align: right;\">\n",
       "      <th></th>\n",
       "      <th>Perguntas</th>\n",
       "      <th>Tags</th>\n",
       "    </tr>\n",
       "  </thead>\n",
       "  <tbody>\n",
       "    <tr>\n",
       "      <th>515</th>\n",
       "      <td>Tenho montado a seguinte estrutura em HTML:  C...</td>\n",
       "      <td>jquery html</td>\n",
       "    </tr>\n",
       "    <tr>\n",
       "      <th>572</th>\n",
       "      <td>Como fazer um efeito em jQuery, que quando use...</td>\n",
       "      <td>jquery html</td>\n",
       "    </tr>\n",
       "    <tr>\n",
       "      <th>183</th>\n",
       "      <td>Estou usando o plugin jQuery Validate para val...</td>\n",
       "      <td>html</td>\n",
       "    </tr>\n",
       "    <tr>\n",
       "      <th>1404</th>\n",
       "      <td>Estou fazendo um template e preciso colocar a ...</td>\n",
       "      <td>html</td>\n",
       "    </tr>\n",
       "    <tr>\n",
       "      <th>1187</th>\n",
       "      <td>Estou criando um JS para executar o código com...</td>\n",
       "      <td>jquery html</td>\n",
       "    </tr>\n",
       "    <tr>\n",
       "      <th>4309</th>\n",
       "      <td>No PHP, podemos converter uma quebra de linha ...</td>\n",
       "      <td>html</td>\n",
       "    </tr>\n",
       "    <tr>\n",
       "      <th>1312</th>\n",
       "      <td>Estou migrando um projeto e o mesmo possuía al...</td>\n",
       "      <td>angular</td>\n",
       "    </tr>\n",
       "    <tr>\n",
       "      <th>5009</th>\n",
       "      <td>Boa noite! Estou tentando consumir uma API uti...</td>\n",
       "      <td>jquery</td>\n",
       "    </tr>\n",
       "    <tr>\n",
       "      <th>2659</th>\n",
       "      <td>Estive a fazer uma pesquisa em PT e EN sobre c...</td>\n",
       "      <td>html</td>\n",
       "    </tr>\n",
       "    <tr>\n",
       "      <th>4691</th>\n",
       "      <td>Por exemplo, tenho uma CODE  dentro de uma var...</td>\n",
       "      <td>html</td>\n",
       "    </tr>\n",
       "  </tbody>\n",
       "</table>\n",
       "</div>"
      ]
     },
     "metadata": {},
     "execution_count": 27
    }
   ],
   "metadata": {}
  },
  {
   "cell_type": "code",
   "execution_count": 28,
   "source": [
    "print(len(df))"
   ],
   "outputs": [
    {
     "output_type": "stream",
     "name": "stdout",
     "text": [
      "5408\n"
     ]
    }
   ],
   "metadata": {}
  },
  {
   "cell_type": "code",
   "execution_count": 29,
   "source": [
    "df.Tags.unique()"
   ],
   "outputs": [
    {
     "output_type": "execute_result",
     "data": {
      "text/plain": [
       "array(['node.js', 'jquery', 'html', 'html angular ', 'html ', 'angular',\n",
       "       'angular ', 'jquery html  ', 'jquery ', 'jquery html',\n",
       "       'jquery html ', 'html angular', 'angular node.js ', 'html  ',\n",
       "       'jquery html angular', 'node.js ', 'html jquery', 'html jquery ',\n",
       "       'jquery angular  ', 'html node.js', 'jquery  ', 'angular node.js',\n",
       "       'jquery angular', 'html node.js ', 'jquery node.js ', 'angular  ',\n",
       "       'jquery angular ', 'jquery html angular ', 'node.js html ',\n",
       "       ' node.js', 'node.js html', 'html angular  ', 'jquery node.js',\n",
       "       'angular html', 'html angular  node.js', 'jquery html node.js',\n",
       "       'html angular node.js'], dtype=object)"
      ]
     },
     "metadata": {},
     "execution_count": 29
    }
   ],
   "metadata": {}
  },
  {
   "cell_type": "code",
   "execution_count": 30,
   "source": [
    "print(len(df.Tags.unique()))"
   ],
   "outputs": [
    {
     "output_type": "stream",
     "name": "stdout",
     "text": [
      "37\n"
     ]
    }
   ],
   "metadata": {}
  },
  {
   "cell_type": "code",
   "execution_count": 31,
   "source": [
    "lista_de_tags = list()\r\n",
    "for tags in df.Tags.unique():\r\n",
    "    for tag in tags.split():\r\n",
    "        if tag not in lista_de_tags:\r\n",
    "            lista_de_tags.append(tag)\r\n",
    "print(lista_de_tags)"
   ],
   "outputs": [
    {
     "output_type": "stream",
     "name": "stdout",
     "text": [
      "['node.js', 'jquery', 'html', 'angular']\n"
     ]
    }
   ],
   "metadata": {}
  },
  {
   "cell_type": "code",
   "execution_count": 32,
   "source": [
    "def nova_coluna(lista_tag, dataframe, nome_tags):\r\n",
    "    for tag in lista_tag:\r\n",
    "        coluna = list()\r\n",
    "        for linha_tag in dataframe[nome_tags]:\r\n",
    "            if tag in linha_tag:\r\n",
    "                coluna.append(1)\r\n",
    "            else:\r\n",
    "                coluna.append(0)\r\n",
    "        dataframe[tag] = coluna\r\n",
    "\r\n",
    "nova_coluna(lista_de_tags, df, \"Tags\")\r\n",
    "df.sample(10)"
   ],
   "outputs": [
    {
     "output_type": "execute_result",
     "data": {
      "text/plain": [
       "                                              Perguntas             Tags  \\\n",
       "268   A pagina tem um datatables https://datatables....          jquery    \n",
       "1908  Olá estou com um problema aqui, eu preciso usa...          node.js   \n",
       "1843  estou com o seguinte código JS: Ele esta aplic...           jquery   \n",
       "5225  Amigos, tenho uma questão que ficaria feliz se...             html   \n",
       "3134  CODE   conseguem identificar? não é desenhado ...             html   \n",
       "1037  Olá, estou aprendendo Javascript e tenho uma d...            html    \n",
       "2979  Fiz a ativação tudo certo do jQuery datatable ...           jquery   \n",
       "1447  Quando eu dou um npm install no meu projeto, e...  angular node.js   \n",
       "2744  Boa tarde a todos! Galera tenho uma página per...           jquery   \n",
       "2665  Tenho um SVG rasteirizado e inline em uma pagi...            html    \n",
       "\n",
       "      node.js  jquery  html  angular  \n",
       "268         0       1     0        0  \n",
       "1908        1       0     0        0  \n",
       "1843        0       1     0        0  \n",
       "5225        0       0     1        0  \n",
       "3134        0       0     1        0  \n",
       "1037        0       0     1        0  \n",
       "2979        0       1     0        0  \n",
       "1447        1       0     0        1  \n",
       "2744        0       1     0        0  \n",
       "2665        0       0     1        0  "
      ],
      "text/html": [
       "<div>\n",
       "<style scoped>\n",
       "    .dataframe tbody tr th:only-of-type {\n",
       "        vertical-align: middle;\n",
       "    }\n",
       "\n",
       "    .dataframe tbody tr th {\n",
       "        vertical-align: top;\n",
       "    }\n",
       "\n",
       "    .dataframe thead th {\n",
       "        text-align: right;\n",
       "    }\n",
       "</style>\n",
       "<table border=\"1\" class=\"dataframe\">\n",
       "  <thead>\n",
       "    <tr style=\"text-align: right;\">\n",
       "      <th></th>\n",
       "      <th>Perguntas</th>\n",
       "      <th>Tags</th>\n",
       "      <th>node.js</th>\n",
       "      <th>jquery</th>\n",
       "      <th>html</th>\n",
       "      <th>angular</th>\n",
       "    </tr>\n",
       "  </thead>\n",
       "  <tbody>\n",
       "    <tr>\n",
       "      <th>268</th>\n",
       "      <td>A pagina tem um datatables https://datatables....</td>\n",
       "      <td>jquery</td>\n",
       "      <td>0</td>\n",
       "      <td>1</td>\n",
       "      <td>0</td>\n",
       "      <td>0</td>\n",
       "    </tr>\n",
       "    <tr>\n",
       "      <th>1908</th>\n",
       "      <td>Olá estou com um problema aqui, eu preciso usa...</td>\n",
       "      <td>node.js</td>\n",
       "      <td>1</td>\n",
       "      <td>0</td>\n",
       "      <td>0</td>\n",
       "      <td>0</td>\n",
       "    </tr>\n",
       "    <tr>\n",
       "      <th>1843</th>\n",
       "      <td>estou com o seguinte código JS: Ele esta aplic...</td>\n",
       "      <td>jquery</td>\n",
       "      <td>0</td>\n",
       "      <td>1</td>\n",
       "      <td>0</td>\n",
       "      <td>0</td>\n",
       "    </tr>\n",
       "    <tr>\n",
       "      <th>5225</th>\n",
       "      <td>Amigos, tenho uma questão que ficaria feliz se...</td>\n",
       "      <td>html</td>\n",
       "      <td>0</td>\n",
       "      <td>0</td>\n",
       "      <td>1</td>\n",
       "      <td>0</td>\n",
       "    </tr>\n",
       "    <tr>\n",
       "      <th>3134</th>\n",
       "      <td>CODE   conseguem identificar? não é desenhado ...</td>\n",
       "      <td>html</td>\n",
       "      <td>0</td>\n",
       "      <td>0</td>\n",
       "      <td>1</td>\n",
       "      <td>0</td>\n",
       "    </tr>\n",
       "    <tr>\n",
       "      <th>1037</th>\n",
       "      <td>Olá, estou aprendendo Javascript e tenho uma d...</td>\n",
       "      <td>html</td>\n",
       "      <td>0</td>\n",
       "      <td>0</td>\n",
       "      <td>1</td>\n",
       "      <td>0</td>\n",
       "    </tr>\n",
       "    <tr>\n",
       "      <th>2979</th>\n",
       "      <td>Fiz a ativação tudo certo do jQuery datatable ...</td>\n",
       "      <td>jquery</td>\n",
       "      <td>0</td>\n",
       "      <td>1</td>\n",
       "      <td>0</td>\n",
       "      <td>0</td>\n",
       "    </tr>\n",
       "    <tr>\n",
       "      <th>1447</th>\n",
       "      <td>Quando eu dou um npm install no meu projeto, e...</td>\n",
       "      <td>angular node.js</td>\n",
       "      <td>1</td>\n",
       "      <td>0</td>\n",
       "      <td>0</td>\n",
       "      <td>1</td>\n",
       "    </tr>\n",
       "    <tr>\n",
       "      <th>2744</th>\n",
       "      <td>Boa tarde a todos! Galera tenho uma página per...</td>\n",
       "      <td>jquery</td>\n",
       "      <td>0</td>\n",
       "      <td>1</td>\n",
       "      <td>0</td>\n",
       "      <td>0</td>\n",
       "    </tr>\n",
       "    <tr>\n",
       "      <th>2665</th>\n",
       "      <td>Tenho um SVG rasteirizado e inline em uma pagi...</td>\n",
       "      <td>html</td>\n",
       "      <td>0</td>\n",
       "      <td>0</td>\n",
       "      <td>1</td>\n",
       "      <td>0</td>\n",
       "    </tr>\n",
       "  </tbody>\n",
       "</table>\n",
       "</div>"
      ]
     },
     "metadata": {},
     "execution_count": 32
    }
   ],
   "metadata": {}
  },
  {
   "cell_type": "code",
   "execution_count": 33,
   "source": [
    "lista_zip_tags = list(zip(\r\n",
    "    df[lista_de_tags[0]],\r\n",
    "    df[lista_de_tags[1]],\r\n",
    "    df[lista_de_tags[2]],\r\n",
    "    df[lista_de_tags[3]]\r\n",
    "))\r\n",
    "df[\"todas_tags\"] = lista_zip_tags\r\n",
    "df.sample(10)"
   ],
   "outputs": [
    {
     "output_type": "execute_result",
     "data": {
      "text/plain": [
       "                                              Perguntas          Tags  \\\n",
       "5081  Olá,  Através da função abaixo, pretendo exibi...        jquery   \n",
       "5084  Preciso fazer um gráfico como esse   Mas não e...  jquery html    \n",
       "4299  CODE   Desta maneira ele esta carregando a ima...        jquery   \n",
       "2979  Fiz a ativação tudo certo do jQuery datatable ...        jquery   \n",
       "1084  Pretendo criar um Serach Bar na minha home est...       angular   \n",
       "4352  Eu estou desenvolvendo uma aplicação web para ...       jquery    \n",
       "2090  Gostaria de obter a conexão do arquivo dbConne...       node.js   \n",
       "4252  Estou utilizando a versão v0.10.37 do Node e a...       node.js   \n",
       "5344  No site que estou desenvolvendo, gostaria de c...          html   \n",
       "4554  Tenho um autocomplete que funciona perfeitamen...        jquery   \n",
       "\n",
       "      node.js  jquery  html  angular    todas_tags  \n",
       "5081        0       1     0        0  (0, 1, 0, 0)  \n",
       "5084        0       1     1        0  (0, 1, 1, 0)  \n",
       "4299        0       1     0        0  (0, 1, 0, 0)  \n",
       "2979        0       1     0        0  (0, 1, 0, 0)  \n",
       "1084        0       0     0        1  (0, 0, 0, 1)  \n",
       "4352        0       1     0        0  (0, 1, 0, 0)  \n",
       "2090        1       0     0        0  (1, 0, 0, 0)  \n",
       "4252        1       0     0        0  (1, 0, 0, 0)  \n",
       "5344        0       0     1        0  (0, 0, 1, 0)  \n",
       "4554        0       1     0        0  (0, 1, 0, 0)  "
      ],
      "text/html": [
       "<div>\n",
       "<style scoped>\n",
       "    .dataframe tbody tr th:only-of-type {\n",
       "        vertical-align: middle;\n",
       "    }\n",
       "\n",
       "    .dataframe tbody tr th {\n",
       "        vertical-align: top;\n",
       "    }\n",
       "\n",
       "    .dataframe thead th {\n",
       "        text-align: right;\n",
       "    }\n",
       "</style>\n",
       "<table border=\"1\" class=\"dataframe\">\n",
       "  <thead>\n",
       "    <tr style=\"text-align: right;\">\n",
       "      <th></th>\n",
       "      <th>Perguntas</th>\n",
       "      <th>Tags</th>\n",
       "      <th>node.js</th>\n",
       "      <th>jquery</th>\n",
       "      <th>html</th>\n",
       "      <th>angular</th>\n",
       "      <th>todas_tags</th>\n",
       "    </tr>\n",
       "  </thead>\n",
       "  <tbody>\n",
       "    <tr>\n",
       "      <th>5081</th>\n",
       "      <td>Olá,  Através da função abaixo, pretendo exibi...</td>\n",
       "      <td>jquery</td>\n",
       "      <td>0</td>\n",
       "      <td>1</td>\n",
       "      <td>0</td>\n",
       "      <td>0</td>\n",
       "      <td>(0, 1, 0, 0)</td>\n",
       "    </tr>\n",
       "    <tr>\n",
       "      <th>5084</th>\n",
       "      <td>Preciso fazer um gráfico como esse   Mas não e...</td>\n",
       "      <td>jquery html</td>\n",
       "      <td>0</td>\n",
       "      <td>1</td>\n",
       "      <td>1</td>\n",
       "      <td>0</td>\n",
       "      <td>(0, 1, 1, 0)</td>\n",
       "    </tr>\n",
       "    <tr>\n",
       "      <th>4299</th>\n",
       "      <td>CODE   Desta maneira ele esta carregando a ima...</td>\n",
       "      <td>jquery</td>\n",
       "      <td>0</td>\n",
       "      <td>1</td>\n",
       "      <td>0</td>\n",
       "      <td>0</td>\n",
       "      <td>(0, 1, 0, 0)</td>\n",
       "    </tr>\n",
       "    <tr>\n",
       "      <th>2979</th>\n",
       "      <td>Fiz a ativação tudo certo do jQuery datatable ...</td>\n",
       "      <td>jquery</td>\n",
       "      <td>0</td>\n",
       "      <td>1</td>\n",
       "      <td>0</td>\n",
       "      <td>0</td>\n",
       "      <td>(0, 1, 0, 0)</td>\n",
       "    </tr>\n",
       "    <tr>\n",
       "      <th>1084</th>\n",
       "      <td>Pretendo criar um Serach Bar na minha home est...</td>\n",
       "      <td>angular</td>\n",
       "      <td>0</td>\n",
       "      <td>0</td>\n",
       "      <td>0</td>\n",
       "      <td>1</td>\n",
       "      <td>(0, 0, 0, 1)</td>\n",
       "    </tr>\n",
       "    <tr>\n",
       "      <th>4352</th>\n",
       "      <td>Eu estou desenvolvendo uma aplicação web para ...</td>\n",
       "      <td>jquery</td>\n",
       "      <td>0</td>\n",
       "      <td>1</td>\n",
       "      <td>0</td>\n",
       "      <td>0</td>\n",
       "      <td>(0, 1, 0, 0)</td>\n",
       "    </tr>\n",
       "    <tr>\n",
       "      <th>2090</th>\n",
       "      <td>Gostaria de obter a conexão do arquivo dbConne...</td>\n",
       "      <td>node.js</td>\n",
       "      <td>1</td>\n",
       "      <td>0</td>\n",
       "      <td>0</td>\n",
       "      <td>0</td>\n",
       "      <td>(1, 0, 0, 0)</td>\n",
       "    </tr>\n",
       "    <tr>\n",
       "      <th>4252</th>\n",
       "      <td>Estou utilizando a versão v0.10.37 do Node e a...</td>\n",
       "      <td>node.js</td>\n",
       "      <td>1</td>\n",
       "      <td>0</td>\n",
       "      <td>0</td>\n",
       "      <td>0</td>\n",
       "      <td>(1, 0, 0, 0)</td>\n",
       "    </tr>\n",
       "    <tr>\n",
       "      <th>5344</th>\n",
       "      <td>No site que estou desenvolvendo, gostaria de c...</td>\n",
       "      <td>html</td>\n",
       "      <td>0</td>\n",
       "      <td>0</td>\n",
       "      <td>1</td>\n",
       "      <td>0</td>\n",
       "      <td>(0, 0, 1, 0)</td>\n",
       "    </tr>\n",
       "    <tr>\n",
       "      <th>4554</th>\n",
       "      <td>Tenho um autocomplete que funciona perfeitamen...</td>\n",
       "      <td>jquery</td>\n",
       "      <td>0</td>\n",
       "      <td>1</td>\n",
       "      <td>0</td>\n",
       "      <td>0</td>\n",
       "      <td>(0, 1, 0, 0)</td>\n",
       "    </tr>\n",
       "  </tbody>\n",
       "</table>\n",
       "</div>"
      ]
     },
     "metadata": {},
     "execution_count": 33
    }
   ],
   "metadata": {}
  },
  {
   "cell_type": "code",
   "execution_count": null,
   "source": [],
   "outputs": [],
   "metadata": {}
  },
  {
   "cell_type": "code",
   "execution_count": 34,
   "source": [
    "from sklearn.model_selection import train_test_split\r\n",
    "x_train, x_test, y_train, y_test = train_test_split(\r\n",
    "    df.Perguntas,\r\n",
    "    df.todas_tags,\r\n",
    "    test_size = 0.2,\r\n",
    "    random_state = 123\r\n",
    ")"
   ],
   "outputs": [],
   "metadata": {}
  },
  {
   "cell_type": "code",
   "execution_count": 35,
   "source": [
    "from sklearn.feature_extraction.text import TfidfVectorizer\r\n",
    "\r\n",
    "vectorize = TfidfVectorizer(max_features=5000, max_df=0.85)\r\n"
   ],
   "outputs": [],
   "metadata": {}
  },
  {
   "cell_type": "code",
   "execution_count": 36,
   "source": [
    "vectorize.fit(df.Perguntas)\r\n",
    "x_train_tfidf = vectorize.transform(x_train)\r\n",
    "x_test_tfidf = vectorize.transform(x_test)"
   ],
   "outputs": [],
   "metadata": {}
  },
  {
   "cell_type": "code",
   "execution_count": 37,
   "source": [
    "print(x_train_tfidf.shape)\r\n",
    "print(x_test_tfidf.shape)"
   ],
   "outputs": [
    {
     "output_type": "stream",
     "name": "stdout",
     "text": [
      "(4326, 5000)\n",
      "(1082, 5000)\n"
     ]
    }
   ],
   "metadata": {}
  },
  {
   "cell_type": "code",
   "execution_count": 38,
   "source": [
    "import numpy as np\r\n",
    "\r\n",
    "y_train_array = np.asarray(list(y_train))\r\n",
    "y_test_array = np.asarray(list(y_test))"
   ],
   "outputs": [],
   "metadata": {}
  },
  {
   "cell_type": "code",
   "execution_count": 40,
   "source": [
    "from sklearn.multiclass import OneVsRestClassifier\r\n",
    "from sklearn.linear_model import LogisticRegression\r\n",
    "\r\n",
    "regressao_logistica = LogisticRegression()\r\n",
    "classificador_onevsrest = OneVsRestClassifier(regressao_logistica)\r\n",
    "classificador_onevsrest.fit(x_train_tfidf,y_train_array)\r\n",
    "result_onevsrest = classificador_onevsrest.score(x_test_tfidf,y_test_array)\r\n",
    "print(\"Resultado {0: .2f}%\".format(result_onevsrest*100))"
   ],
   "outputs": [
    {
     "output_type": "stream",
     "name": "stdout",
     "text": [
      "Resultado  41.68%\n"
     ]
    }
   ],
   "metadata": {}
  },
  {
   "cell_type": "code",
   "execution_count": 41,
   "source": [
    "from sklearn.metrics import hamming_loss\r\n",
    "\r\n",
    "previsao_onevsrest = classificador_onevsrest.predict(x_test_tfidf)\r\n",
    "hamming_loss_onevsrest = hamming_loss(y_test_array,previsao_onevsrest)\r\n",
    "print(\"Hamming Loss {0: .2f}\".format(hamming_loss_onevsrest))"
   ],
   "outputs": [
    {
     "output_type": "stream",
     "name": "stdout",
     "text": [
      "Hamming Loss  0.19\n"
     ]
    }
   ],
   "metadata": {}
  },
  {
   "cell_type": "code",
   "execution_count": 42,
   "source": [
    "df.corr()"
   ],
   "outputs": [
    {
     "output_type": "execute_result",
     "data": {
      "text/plain": [
       "          node.js    jquery      html   angular\n",
       "node.js  1.000000 -0.321485 -0.273523 -0.101787\n",
       "jquery  -0.321485  1.000000 -0.253977 -0.366269\n",
       "html    -0.273523 -0.253977  1.000000 -0.286706\n",
       "angular -0.101787 -0.366269 -0.286706  1.000000"
      ],
      "text/html": [
       "<div>\n",
       "<style scoped>\n",
       "    .dataframe tbody tr th:only-of-type {\n",
       "        vertical-align: middle;\n",
       "    }\n",
       "\n",
       "    .dataframe tbody tr th {\n",
       "        vertical-align: top;\n",
       "    }\n",
       "\n",
       "    .dataframe thead th {\n",
       "        text-align: right;\n",
       "    }\n",
       "</style>\n",
       "<table border=\"1\" class=\"dataframe\">\n",
       "  <thead>\n",
       "    <tr style=\"text-align: right;\">\n",
       "      <th></th>\n",
       "      <th>node.js</th>\n",
       "      <th>jquery</th>\n",
       "      <th>html</th>\n",
       "      <th>angular</th>\n",
       "    </tr>\n",
       "  </thead>\n",
       "  <tbody>\n",
       "    <tr>\n",
       "      <th>node.js</th>\n",
       "      <td>1.000000</td>\n",
       "      <td>-0.321485</td>\n",
       "      <td>-0.273523</td>\n",
       "      <td>-0.101787</td>\n",
       "    </tr>\n",
       "    <tr>\n",
       "      <th>jquery</th>\n",
       "      <td>-0.321485</td>\n",
       "      <td>1.000000</td>\n",
       "      <td>-0.253977</td>\n",
       "      <td>-0.366269</td>\n",
       "    </tr>\n",
       "    <tr>\n",
       "      <th>html</th>\n",
       "      <td>-0.273523</td>\n",
       "      <td>-0.253977</td>\n",
       "      <td>1.000000</td>\n",
       "      <td>-0.286706</td>\n",
       "    </tr>\n",
       "    <tr>\n",
       "      <th>angular</th>\n",
       "      <td>-0.101787</td>\n",
       "      <td>-0.366269</td>\n",
       "      <td>-0.286706</td>\n",
       "      <td>1.000000</td>\n",
       "    </tr>\n",
       "  </tbody>\n",
       "</table>\n",
       "</div>"
      ]
     },
     "metadata": {},
     "execution_count": 42
    }
   ],
   "metadata": {}
  },
  {
   "cell_type": "code",
   "execution_count": 44,
   "source": [
    "#!pip install scikit-multilearn"
   ],
   "outputs": [
    {
     "output_type": "stream",
     "name": "stdout",
     "text": [
      "Collecting scikit-multilearn\n",
      "  Downloading scikit_multilearn-0.2.0-py3-none-any.whl (89 kB)\n",
      "Installing collected packages: scikit-multilearn\n",
      "Successfully installed scikit-multilearn-0.2.0\n"
     ]
    },
    {
     "output_type": "stream",
     "name": "stderr",
     "text": [
      "WARNING: You are using pip version 21.1.2; however, version 21.2.1 is available.\n",
      "You should consider upgrading via the 'c:\\users\\pedro\\appdata\\local\\programs\\python\\python38\\python.exe -m pip install --upgrade pip' command.\n"
     ]
    }
   ],
   "metadata": {}
  },
  {
   "cell_type": "code",
   "execution_count": 47,
   "source": [
    "from skmultilearn.problem_transform import ClassifierChain\r\n",
    "\r\n",
    "classificador_cadeia = ClassifierChain(regressao_logistica)\r\n",
    "classificador_cadeia.fit(x_train_tfidf,y_train_array)\r\n",
    "result_cadeia = classificador_cadeia.score(x_test_tfidf,y_test_array)\r\n",
    "\r\n",
    "previsao_cadeia = classificador_cadeia.predict(x_test_tfidf)\r\n",
    "hamming_loss_cadeia = hamming_loss(y_test_array,previsao_cadeia)\r\n",
    "\r\n",
    "print(\"Hamming Loss {0: .2f}\".format(hamming_loss_cadeia))\r\n",
    "\r\n",
    "print(\"Resultado {0: .2f}%\".format(result_cadeia*100))"
   ],
   "outputs": [
    {
     "output_type": "stream",
     "name": "stdout",
     "text": [
      "Hamming Loss  0.21\n",
      "Resultado  49.82%\n"
     ]
    }
   ],
   "metadata": {}
  },
  {
   "cell_type": "code",
   "execution_count": 48,
   "source": [
    "from skmultilearn.problem_transform import BinaryRelevance\r\n",
    "\r\n",
    "classificador_br = BinaryRelevance(regressao_logistica)\r\n",
    "classificador_br.fit(x_train_tfidf,y_train_array)\r\n",
    "result_br = classificador_br.score(x_test_tfidf,y_test_array)\r\n",
    "\r\n",
    "previsao_br = classificador_br.predict(x_test_tfidf)\r\n",
    "hamming_loss_br = hamming_loss(y_test_array,previsao_br)\r\n",
    "\r\n",
    "print(\"Hamming Loss {0: .2f}\".format(hamming_loss_br))\r\n",
    "\r\n",
    "print(\"Resultado {0: .2f}%\".format(result_br*100))"
   ],
   "outputs": [
    {
     "output_type": "stream",
     "name": "stdout",
     "text": [
      "Hamming Loss  0.19\n",
      "Resultado  41.68%\n"
     ]
    }
   ],
   "metadata": {}
  },
  {
   "cell_type": "code",
   "execution_count": 49,
   "source": [
    "from skmultilearn.adapt import MLkNN\r\n",
    "\r\n",
    "classificador_mlknn = MLkNN()\r\n",
    "\r\n",
    "classificador_mlknn.fit(x_train_tfidf,y_train_array)\r\n",
    "result_mlknn = classificador_mlknn.score(x_test_tfidf,y_test_array)\r\n",
    "\r\n",
    "previsao_mlknn = classificador_mlknn.predict(x_test_tfidf)\r\n",
    "hamming_loss_mlknn = hamming_loss(y_test_array,previsao_mlknn)\r\n",
    "\r\n",
    "print(\"Hamming Loss {0: .2f}\".format(hamming_loss_mlknn))\r\n",
    "\r\n",
    "print(\"Resultado {0: .2f}%\".format(result_mlknn*100))"
   ],
   "outputs": [
    {
     "output_type": "stream",
     "name": "stderr",
     "text": [
      "C:\\Users\\Pedro\\AppData\\Local\\Programs\\Python\\Python38\\lib\\site-packages\\sklearn\\utils\\validation.py:67: FutureWarning: Pass n_neighbors=10 as keyword args. From version 0.25 passing these as positional arguments will result in an error\n",
      "  warnings.warn(\"Pass {} as keyword args. From version 0.25 \"\n"
     ]
    },
    {
     "output_type": "stream",
     "name": "stdout",
     "text": [
      "Hamming Loss  0.25\n",
      "Resultado  32.53%\n"
     ]
    }
   ],
   "metadata": {}
  },
  {
   "cell_type": "code",
   "execution_count": 56,
   "source": [
    "resultados_classificacao = pd.DataFrame()\r\n",
    "resultados_classificacao[\"perguntas\"] = x_test.values\r\n",
    "resultados_classificacao[\"tags real\"] = list(y_test)\r\n",
    "resultados_classificacao[\"BR\"] = list(previsao_br.toarray())\r\n",
    "resultados_classificacao[\"cadeia\"] = list(previsao_cadeia.toarray())\r\n",
    "resultados_classificacao[\"mlknn\"] = list(previsao_mlknn.toarray())\r\n",
    "resultados_classificacao"
   ],
   "outputs": [
    {
     "output_type": "execute_result",
     "data": {
      "text/plain": [
       "                                              perguntas     tags real  \\\n",
       "0     estou com conflito entre o  CODE   e os  CODE ...  (0, 1, 0, 0)   \n",
       "1     Estou fazendo um site que eu sou obrigado a us...  (0, 0, 1, 0)   \n",
       "2     Recentemente fiz um refactor do meu código par...  (1, 0, 0, 0)   \n",
       "3     Eu tenho esse código em CODE  que passo valore...  (0, 1, 1, 0)   \n",
       "4     Olá, em minha função tem o evento CODE  que de...  (0, 1, 1, 0)   \n",
       "...                                                 ...           ...   \n",
       "1077  Estou a desenvolver um website em jQuery. E at...  (0, 1, 0, 0)   \n",
       "1078  Estou usando este plugin - jquery autocomplete...  (0, 1, 0, 0)   \n",
       "1079  Tenho o seguinte jQuery:  CODE   Nisto, quanti...  (0, 1, 0, 0)   \n",
       "1080  Estou usando o SimpleModal Contact Form de Eri...  (0, 1, 0, 0)   \n",
       "1081  Estou tento problemas com o webpack, gostaria ...  (0, 0, 0, 1)   \n",
       "\n",
       "                BR                cadeia         mlknn  \n",
       "0     [0, 1, 0, 0]  [0.0, 1.0, 0.0, 0.0]  [0, 0, 0, 0]  \n",
       "1     [0, 0, 1, 0]  [0.0, 0.0, 1.0, 0.0]  [0, 1, 1, 0]  \n",
       "2     [1, 0, 0, 0]  [1.0, 0.0, 0.0, 0.0]  [1, 0, 0, 0]  \n",
       "3     [0, 1, 0, 0]  [0.0, 1.0, 0.0, 0.0]  [0, 1, 1, 0]  \n",
       "4     [0, 1, 0, 0]  [0.0, 1.0, 0.0, 0.0]  [0, 1, 1, 0]  \n",
       "...            ...                   ...           ...  \n",
       "1077  [0, 1, 1, 0]  [0.0, 1.0, 1.0, 0.0]  [0, 0, 1, 0]  \n",
       "1078  [0, 1, 0, 0]  [0.0, 1.0, 0.0, 0.0]  [0, 1, 0, 0]  \n",
       "1079  [0, 1, 0, 0]  [0.0, 1.0, 0.0, 0.0]  [0, 1, 0, 0]  \n",
       "1080  [0, 1, 0, 0]  [0.0, 1.0, 0.0, 0.0]  [0, 1, 0, 0]  \n",
       "1081  [0, 0, 0, 0]  [0.0, 0.0, 1.0, 0.0]  [0, 0, 1, 0]  \n",
       "\n",
       "[1082 rows x 5 columns]"
      ],
      "text/html": [
       "<div>\n",
       "<style scoped>\n",
       "    .dataframe tbody tr th:only-of-type {\n",
       "        vertical-align: middle;\n",
       "    }\n",
       "\n",
       "    .dataframe tbody tr th {\n",
       "        vertical-align: top;\n",
       "    }\n",
       "\n",
       "    .dataframe thead th {\n",
       "        text-align: right;\n",
       "    }\n",
       "</style>\n",
       "<table border=\"1\" class=\"dataframe\">\n",
       "  <thead>\n",
       "    <tr style=\"text-align: right;\">\n",
       "      <th></th>\n",
       "      <th>perguntas</th>\n",
       "      <th>tags real</th>\n",
       "      <th>BR</th>\n",
       "      <th>cadeia</th>\n",
       "      <th>mlknn</th>\n",
       "    </tr>\n",
       "  </thead>\n",
       "  <tbody>\n",
       "    <tr>\n",
       "      <th>0</th>\n",
       "      <td>estou com conflito entre o  CODE   e os  CODE ...</td>\n",
       "      <td>(0, 1, 0, 0)</td>\n",
       "      <td>[0, 1, 0, 0]</td>\n",
       "      <td>[0.0, 1.0, 0.0, 0.0]</td>\n",
       "      <td>[0, 0, 0, 0]</td>\n",
       "    </tr>\n",
       "    <tr>\n",
       "      <th>1</th>\n",
       "      <td>Estou fazendo um site que eu sou obrigado a us...</td>\n",
       "      <td>(0, 0, 1, 0)</td>\n",
       "      <td>[0, 0, 1, 0]</td>\n",
       "      <td>[0.0, 0.0, 1.0, 0.0]</td>\n",
       "      <td>[0, 1, 1, 0]</td>\n",
       "    </tr>\n",
       "    <tr>\n",
       "      <th>2</th>\n",
       "      <td>Recentemente fiz um refactor do meu código par...</td>\n",
       "      <td>(1, 0, 0, 0)</td>\n",
       "      <td>[1, 0, 0, 0]</td>\n",
       "      <td>[1.0, 0.0, 0.0, 0.0]</td>\n",
       "      <td>[1, 0, 0, 0]</td>\n",
       "    </tr>\n",
       "    <tr>\n",
       "      <th>3</th>\n",
       "      <td>Eu tenho esse código em CODE  que passo valore...</td>\n",
       "      <td>(0, 1, 1, 0)</td>\n",
       "      <td>[0, 1, 0, 0]</td>\n",
       "      <td>[0.0, 1.0, 0.0, 0.0]</td>\n",
       "      <td>[0, 1, 1, 0]</td>\n",
       "    </tr>\n",
       "    <tr>\n",
       "      <th>4</th>\n",
       "      <td>Olá, em minha função tem o evento CODE  que de...</td>\n",
       "      <td>(0, 1, 1, 0)</td>\n",
       "      <td>[0, 1, 0, 0]</td>\n",
       "      <td>[0.0, 1.0, 0.0, 0.0]</td>\n",
       "      <td>[0, 1, 1, 0]</td>\n",
       "    </tr>\n",
       "    <tr>\n",
       "      <th>...</th>\n",
       "      <td>...</td>\n",
       "      <td>...</td>\n",
       "      <td>...</td>\n",
       "      <td>...</td>\n",
       "      <td>...</td>\n",
       "    </tr>\n",
       "    <tr>\n",
       "      <th>1077</th>\n",
       "      <td>Estou a desenvolver um website em jQuery. E at...</td>\n",
       "      <td>(0, 1, 0, 0)</td>\n",
       "      <td>[0, 1, 1, 0]</td>\n",
       "      <td>[0.0, 1.0, 1.0, 0.0]</td>\n",
       "      <td>[0, 0, 1, 0]</td>\n",
       "    </tr>\n",
       "    <tr>\n",
       "      <th>1078</th>\n",
       "      <td>Estou usando este plugin - jquery autocomplete...</td>\n",
       "      <td>(0, 1, 0, 0)</td>\n",
       "      <td>[0, 1, 0, 0]</td>\n",
       "      <td>[0.0, 1.0, 0.0, 0.0]</td>\n",
       "      <td>[0, 1, 0, 0]</td>\n",
       "    </tr>\n",
       "    <tr>\n",
       "      <th>1079</th>\n",
       "      <td>Tenho o seguinte jQuery:  CODE   Nisto, quanti...</td>\n",
       "      <td>(0, 1, 0, 0)</td>\n",
       "      <td>[0, 1, 0, 0]</td>\n",
       "      <td>[0.0, 1.0, 0.0, 0.0]</td>\n",
       "      <td>[0, 1, 0, 0]</td>\n",
       "    </tr>\n",
       "    <tr>\n",
       "      <th>1080</th>\n",
       "      <td>Estou usando o SimpleModal Contact Form de Eri...</td>\n",
       "      <td>(0, 1, 0, 0)</td>\n",
       "      <td>[0, 1, 0, 0]</td>\n",
       "      <td>[0.0, 1.0, 0.0, 0.0]</td>\n",
       "      <td>[0, 1, 0, 0]</td>\n",
       "    </tr>\n",
       "    <tr>\n",
       "      <th>1081</th>\n",
       "      <td>Estou tento problemas com o webpack, gostaria ...</td>\n",
       "      <td>(0, 0, 0, 1)</td>\n",
       "      <td>[0, 0, 0, 0]</td>\n",
       "      <td>[0.0, 0.0, 1.0, 0.0]</td>\n",
       "      <td>[0, 0, 1, 0]</td>\n",
       "    </tr>\n",
       "  </tbody>\n",
       "</table>\n",
       "<p>1082 rows × 5 columns</p>\n",
       "</div>"
      ]
     },
     "metadata": {},
     "execution_count": 56
    }
   ],
   "metadata": {}
  }
 ],
 "metadata": {
  "orig_nbformat": 4,
  "language_info": {
   "name": "python",
   "version": "3.8.6",
   "mimetype": "text/x-python",
   "codemirror_mode": {
    "name": "ipython",
    "version": 3
   },
   "pygments_lexer": "ipython3",
   "nbconvert_exporter": "python",
   "file_extension": ".py"
  },
  "kernelspec": {
   "name": "python3",
   "display_name": "Python 3.8.6 64-bit"
  },
  "interpreter": {
   "hash": "eb1a3d8c7dad79be73d9427f058ed676cf5bd543ef481e776052cfa6e7a46cfb"
  }
 },
 "nbformat": 4,
 "nbformat_minor": 2
}