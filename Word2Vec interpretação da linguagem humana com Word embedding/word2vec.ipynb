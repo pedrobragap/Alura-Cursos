{
 "cells": [
  {
   "cell_type": "code",
   "execution_count": 1,
   "source": [
    "import pandas as pd\r\n",
    "\r\n",
    "artigo_treino = pd.read_csv(\"./database/treino.csv\")\r\n",
    "artigo_teste = pd.read_csv(\"./database/teste.csv\")"
   ],
   "outputs": [],
   "metadata": {}
  },
  {
   "cell_type": "code",
   "execution_count": 2,
   "source": [
    "artigo_treino.sample(5)"
   ],
   "outputs": [
    {
     "output_type": "execute_result",
     "data": {
      "text/plain": [
       "                                                   title  \\\n",
       "33829  'Leniência', a palavra que resume o primeiro s...   \n",
       "71321  Com Trump presidente, um de seus eleitores não...   \n",
       "39674  Crítica - Peça recria 'Senhorita Julia' com br...   \n",
       "37833  Eleição nos EUA mostra que analistas precisam ...   \n",
       "27019  'Westworld' lidera indicações ao Emmy 2017 e c...   \n",
       "\n",
       "                                                    text        date  \\\n",
       "33829  O substantivo \"leniência\" é a Palavra do Semes...  2017-06-07   \n",
       "71321  RIO DE JANEIRO - Um amigo meu, filho de brasil...  2016-07-30   \n",
       "39674  Embora desloque o eixo dramático do conhecido ...  2015-03-16   \n",
       "37833  \"[Donald Trump] não precisa do Colorado ou da ...  2016-12-11   \n",
       "27019  Os indicados à 69ª edição do Emmy, principal p...  2017-07-13   \n",
       "\n",
       "        category       subcategory  \\\n",
       "33829    colunas  sergio-rodrigues   \n",
       "71321    colunas         ruycastro   \n",
       "39674  ilustrada               NaN   \n",
       "37833      mundo               NaN   \n",
       "27019  ilustrada               NaN   \n",
       "\n",
       "                                                    link  \n",
       "33829  http://www1.folha.uol.com.br/colunas/sergio-ro...  \n",
       "71321  http://www1.folha.uol.com.br/colunas/ruycastro...  \n",
       "39674  http://www1.folha.uol.com.br/ilustrada/2015/03...  \n",
       "37833  http://www1.folha.uol.com.br/mundo/2016/11/183...  \n",
       "27019  http://www1.folha.uol.com.br/ilustrada/2017/07...  "
      ],
      "text/html": [
       "<div>\n",
       "<style scoped>\n",
       "    .dataframe tbody tr th:only-of-type {\n",
       "        vertical-align: middle;\n",
       "    }\n",
       "\n",
       "    .dataframe tbody tr th {\n",
       "        vertical-align: top;\n",
       "    }\n",
       "\n",
       "    .dataframe thead th {\n",
       "        text-align: right;\n",
       "    }\n",
       "</style>\n",
       "<table border=\"1\" class=\"dataframe\">\n",
       "  <thead>\n",
       "    <tr style=\"text-align: right;\">\n",
       "      <th></th>\n",
       "      <th>title</th>\n",
       "      <th>text</th>\n",
       "      <th>date</th>\n",
       "      <th>category</th>\n",
       "      <th>subcategory</th>\n",
       "      <th>link</th>\n",
       "    </tr>\n",
       "  </thead>\n",
       "  <tbody>\n",
       "    <tr>\n",
       "      <th>33829</th>\n",
       "      <td>'Leniência', a palavra que resume o primeiro s...</td>\n",
       "      <td>O substantivo \"leniência\" é a Palavra do Semes...</td>\n",
       "      <td>2017-06-07</td>\n",
       "      <td>colunas</td>\n",
       "      <td>sergio-rodrigues</td>\n",
       "      <td>http://www1.folha.uol.com.br/colunas/sergio-ro...</td>\n",
       "    </tr>\n",
       "    <tr>\n",
       "      <th>71321</th>\n",
       "      <td>Com Trump presidente, um de seus eleitores não...</td>\n",
       "      <td>RIO DE JANEIRO - Um amigo meu, filho de brasil...</td>\n",
       "      <td>2016-07-30</td>\n",
       "      <td>colunas</td>\n",
       "      <td>ruycastro</td>\n",
       "      <td>http://www1.folha.uol.com.br/colunas/ruycastro...</td>\n",
       "    </tr>\n",
       "    <tr>\n",
       "      <th>39674</th>\n",
       "      <td>Crítica - Peça recria 'Senhorita Julia' com br...</td>\n",
       "      <td>Embora desloque o eixo dramático do conhecido ...</td>\n",
       "      <td>2015-03-16</td>\n",
       "      <td>ilustrada</td>\n",
       "      <td>NaN</td>\n",
       "      <td>http://www1.folha.uol.com.br/ilustrada/2015/03...</td>\n",
       "    </tr>\n",
       "    <tr>\n",
       "      <th>37833</th>\n",
       "      <td>Eleição nos EUA mostra que analistas precisam ...</td>\n",
       "      <td>\"[Donald Trump] não precisa do Colorado ou da ...</td>\n",
       "      <td>2016-12-11</td>\n",
       "      <td>mundo</td>\n",
       "      <td>NaN</td>\n",
       "      <td>http://www1.folha.uol.com.br/mundo/2016/11/183...</td>\n",
       "    </tr>\n",
       "    <tr>\n",
       "      <th>27019</th>\n",
       "      <td>'Westworld' lidera indicações ao Emmy 2017 e c...</td>\n",
       "      <td>Os indicados à 69ª edição do Emmy, principal p...</td>\n",
       "      <td>2017-07-13</td>\n",
       "      <td>ilustrada</td>\n",
       "      <td>NaN</td>\n",
       "      <td>http://www1.folha.uol.com.br/ilustrada/2017/07...</td>\n",
       "    </tr>\n",
       "  </tbody>\n",
       "</table>\n",
       "</div>"
      ]
     },
     "metadata": {},
     "execution_count": 2
    }
   ],
   "metadata": {}
  },
  {
   "cell_type": "code",
   "execution_count": 3,
   "source": [
    "artigo_teste.iloc[643].title"
   ],
   "outputs": [
    {
     "output_type": "execute_result",
     "data": {
      "text/plain": [
       "'Somos todos imprevisíveis'"
      ]
     },
     "metadata": {},
     "execution_count": 3
    }
   ],
   "metadata": {}
  },
  {
   "cell_type": "code",
   "execution_count": 4,
   "source": [
    "from sklearn.feature_extraction.text import CountVectorizer\r\n",
    "\r\n",
    "texto = [\r\n",
    "    \"tenha um bom dia\",\r\n",
    "    \"tenha um péssimo dia\",\r\n",
    "    \"tenha um ótimo dia\",\r\n",
    "    \"tenha um dia ruim\"\r\n",
    "]\r\n",
    "\r\n",
    "vetorizador = CountVectorizer()\r\n",
    "vetorizador.fit(texto)"
   ],
   "outputs": [
    {
     "output_type": "execute_result",
     "data": {
      "text/plain": [
       "CountVectorizer()"
      ]
     },
     "metadata": {},
     "execution_count": 4
    }
   ],
   "metadata": {}
  },
  {
   "cell_type": "code",
   "execution_count": 5,
   "source": [
    "vetorizador.vocabulary_"
   ],
   "outputs": [
    {
     "output_type": "execute_result",
     "data": {
      "text/plain": [
       "{'tenha': 4, 'um': 5, 'bom': 0, 'dia': 1, 'péssimo': 2, 'ótimo': 6, 'ruim': 3}"
      ]
     },
     "metadata": {},
     "execution_count": 5
    }
   ],
   "metadata": {}
  },
  {
   "cell_type": "code",
   "execution_count": 6,
   "source": [
    "vetor_bom = vetorizador.transform([\"bom\"])\r\n",
    "vetor_bom.toarray()"
   ],
   "outputs": [
    {
     "output_type": "execute_result",
     "data": {
      "text/plain": [
       "array([[1, 0, 0, 0, 0, 0, 0]], dtype=int64)"
      ]
     },
     "metadata": {},
     "execution_count": 6
    }
   ],
   "metadata": {}
  },
  {
   "cell_type": "code",
   "execution_count": 7,
   "source": [
    "vetor_ótimo = vetorizador.transform([\"ótimo\"])\r\n",
    "vetor_ótimo.toarray()"
   ],
   "outputs": [
    {
     "output_type": "execute_result",
     "data": {
      "text/plain": [
       "array([[0, 0, 0, 0, 0, 0, 1]], dtype=int64)"
      ]
     },
     "metadata": {},
     "execution_count": 7
    }
   ],
   "metadata": {}
  },
  {
   "cell_type": "code",
   "execution_count": null,
   "source": [
    "with open(\"./database/cbow_s300.txt\") as f:\r\n",
    "    for line in range(10):\r\n",
    "        print(next(f))"
   ],
   "outputs": [],
   "metadata": {}
  },
  {
   "cell_type": "code",
   "execution_count": 9,
   "source": [
    "!pip install gensim\r\n",
    "from gensim.models import KeyedVectors\r\n",
    "\r\n",
    "modelo = KeyedVectors.load_word2vec_format(\"./database/cbow_s300.txt\")"
   ],
   "outputs": [
    {
     "output_type": "stream",
     "name": "stdout",
     "text": [
      "Requirement already satisfied: gensim in c:\\users\\pedro\\appdata\\local\\programs\\python\\python38\\lib\\site-packages (4.0.1)\n",
      "Requirement already satisfied: numpy>=1.11.3 in c:\\users\\pedro\\appdata\\local\\programs\\python\\python38\\lib\\site-packages (from gensim) (1.19.0)\n",
      "Requirement already satisfied: Cython==0.29.21 in c:\\users\\pedro\\appdata\\local\\programs\\python\\python38\\lib\\site-packages (from gensim) (0.29.21)\n",
      "Requirement already satisfied: scipy>=0.18.1 in c:\\users\\pedro\\appdata\\local\\programs\\python\\python38\\lib\\site-packages (from gensim) (1.5.3)\n",
      "Requirement already satisfied: smart-open>=1.8.1 in c:\\users\\pedro\\appdata\\local\\programs\\python\\python38\\lib\\site-packages (from gensim) (5.1.0)\n"
     ]
    },
    {
     "output_type": "stream",
     "name": "stderr",
     "text": [
      "WARNING: You are using pip version 21.1.2; however, version 21.2.2 is available.\n",
      "You should consider upgrading via the 'c:\\users\\pedro\\appdata\\local\\programs\\python\\python38\\python.exe -m pip install --upgrade pip' command.\n",
      "C:\\Users\\Pedro\\AppData\\Local\\Programs\\Python\\Python38\\lib\\site-packages\\gensim\\similarities\\__init__.py:15: UserWarning: The gensim.similarities.levenshtein submodule is disabled, because the optional Levenshtein package <https://pypi.org/project/python-Levenshtein/> is unavailable. Install Levenhstein (e.g. `pip install python-Levenshtein`) to suppress this warning.\n",
      "  warnings.warn(msg)\n"
     ]
    }
   ],
   "metadata": {}
  },
  {
   "cell_type": "code",
   "execution_count": 10,
   "source": [
    "modelo.get_vector(\"china\")"
   ],
   "outputs": [
    {
     "output_type": "execute_result",
     "data": {
      "text/plain": [
       "array([-1.49033e-01,  1.26020e-01,  2.17628e-01,  1.82684e-01,\n",
       "        1.65151e-01, -1.59660e-01, -2.34411e-01,  6.00570e-02,\n",
       "        8.03680e-02,  2.87578e-01, -4.81100e-03, -5.68800e-02,\n",
       "        2.15676e-01,  8.65540e-02,  1.25983e-01,  3.36157e-01,\n",
       "       -1.83254e-01, -1.18499e-01,  1.13010e-02,  1.03814e-01,\n",
       "        9.37640e-02,  2.90178e-01, -1.64395e-01, -1.13300e-02,\n",
       "       -1.80676e-01, -1.15820e-02,  1.08728e-01,  1.65898e-01,\n",
       "        9.37900e-02,  2.66767e-01, -1.29890e-02,  9.16030e-02,\n",
       "        2.21292e-01, -1.36497e-01, -4.26350e-02, -1.30038e-01,\n",
       "        2.17067e-01, -1.01963e-01, -3.70960e-02,  1.42155e-01,\n",
       "        3.41109e-01,  2.46560e-01,  1.27458e-01,  5.72360e-02,\n",
       "       -1.47962e-01, -1.60290e-02,  1.86533e-01,  7.71550e-02,\n",
       "       -3.50024e-01, -4.06085e-01,  1.67131e-01, -4.75230e-02,\n",
       "        5.13780e-02, -1.28224e-01,  1.06580e-02, -2.92652e-01,\n",
       "        1.40540e-01, -4.57049e-01,  1.31094e-01,  2.03234e-01,\n",
       "        2.94019e-01,  7.38370e-02,  1.11554e-01, -1.64204e-01,\n",
       "       -3.62020e-02,  1.29522e-01, -1.28321e-01,  1.37502e-01,\n",
       "       -7.99200e-03, -5.07100e-03, -2.86010e-02, -8.99040e-02,\n",
       "        8.82800e-03, -8.27730e-02,  6.91940e-02, -2.70182e-01,\n",
       "        5.47610e-02, -3.06060e-02,  6.89880e-02,  2.38759e-01,\n",
       "       -1.41775e-01,  2.34763e-01, -2.23853e-01, -2.84994e-01,\n",
       "        2.53245e-01,  6.77170e-02, -4.39663e-01, -7.00270e-02,\n",
       "        6.39150e-02, -9.67100e-02, -2.18950e-01, -5.77910e-02,\n",
       "       -1.82689e-01, -3.32202e-01, -7.83070e-02,  7.74620e-02,\n",
       "        8.82920e-02, -4.83618e-01, -1.77812e-01,  5.64040e-02,\n",
       "        1.50339e-01,  8.73000e-02, -1.03121e-01,  1.62065e-01,\n",
       "        4.57940e-02,  9.73590e-02,  1.67230e-02,  3.00791e-01,\n",
       "       -6.49640e-02, -1.95840e-01, -4.33790e-02, -9.46810e-02,\n",
       "        3.73222e-01, -1.65359e-01,  5.58780e-02,  1.72660e-02,\n",
       "       -3.16048e-01,  9.24430e-02, -6.84540e-02, -3.57085e-01,\n",
       "       -1.69469e-01, -1.14090e-01,  9.47230e-02,  3.14999e-01,\n",
       "        2.12717e-01, -2.21540e-02,  1.76870e-02,  1.58473e-01,\n",
       "       -1.39150e-02,  1.23610e-02, -4.13190e-02, -1.47159e-01,\n",
       "       -1.00070e-02,  3.41884e-01,  1.16999e-01, -5.01590e-02,\n",
       "        7.88740e-02,  6.27940e-02,  2.73643e-01,  1.46823e-01,\n",
       "       -1.68857e-01, -1.00014e-01, -5.41060e-02, -3.06130e-02,\n",
       "       -8.85920e-02, -6.19840e-02,  1.21595e-01,  1.13775e-01,\n",
       "        3.97190e-02, -8.54000e-03,  1.05670e-02,  1.12375e-01,\n",
       "        9.70000e-02,  9.05850e-02,  1.25026e-01, -2.92209e-01,\n",
       "        6.81330e-02,  4.06070e-02,  1.33042e-01, -9.77780e-02,\n",
       "       -3.26378e-01,  9.71420e-02, -5.13600e-02,  2.01450e-02,\n",
       "        1.20182e-01, -2.14210e-02, -1.30884e-01,  9.52800e-02,\n",
       "       -5.65320e-02, -8.35370e-02, -2.53035e-01,  9.18650e-02,\n",
       "        7.89190e-02, -6.30710e-02, -1.64057e-01,  8.31660e-02,\n",
       "        1.42698e-01, -2.77053e-01,  7.05810e-02, -1.37800e-02,\n",
       "       -2.74883e-01,  3.02011e-01, -8.34330e-02, -1.14381e-01,\n",
       "       -2.88826e-01,  9.03960e-02,  1.94704e-01, -1.57261e-01,\n",
       "       -2.58910e-02,  1.41321e-01, -1.67231e-01, -2.91540e-02,\n",
       "        8.03650e-02,  1.27378e-01, -1.48120e-01,  2.83291e-01,\n",
       "       -2.65930e-02,  2.15319e-01,  3.35030e-02,  6.47140e-02,\n",
       "        4.20010e-02, -3.85537e-01, -2.67068e-01, -2.77017e-01,\n",
       "       -1.82289e-01, -1.18735e-01, -2.51480e-01, -1.83783e-01,\n",
       "       -2.12362e-01,  2.50214e-01,  3.96240e-02,  2.64830e-02,\n",
       "        1.30810e-01, -1.38478e-01, -1.63040e-02, -2.55850e-02,\n",
       "        2.35141e-01, -8.80540e-02, -9.40650e-02,  1.31790e-01,\n",
       "       -8.33330e-02, -2.40020e-02, -3.38183e-01,  8.10370e-02,\n",
       "       -1.68933e-01,  1.92200e-03,  9.34870e-02,  6.58130e-02,\n",
       "       -1.11925e-01,  1.83907e-01, -6.54900e-03,  4.27730e-02,\n",
       "        3.71566e-01, -3.08570e-02,  1.99647e-01,  1.25516e-01,\n",
       "        1.38471e-01, -9.17400e-02, -2.27814e-01,  8.27690e-02,\n",
       "       -2.94581e-01,  9.56830e-02, -3.48070e-01,  1.02342e-01,\n",
       "       -8.05350e-02,  2.34290e-02, -4.19860e-02,  2.44763e-01,\n",
       "        2.37160e-02, -2.23548e-01, -9.26800e-03, -4.33650e-02,\n",
       "       -1.12413e-01, -4.19178e-01,  1.81267e-01,  1.03648e-01,\n",
       "        2.74945e-01, -9.23560e-02, -4.63300e-02, -2.06314e-01,\n",
       "        4.81410e-02,  2.64603e-01, -1.17113e-01,  1.80097e-01,\n",
       "        5.54220e-02, -1.27460e-01, -1.60328e-01,  1.02289e-01,\n",
       "        4.09530e-02,  1.25305e-01,  1.53398e-01, -2.36950e-02,\n",
       "        2.33967e-01,  2.30250e-02, -1.40227e-01,  3.16349e-01,\n",
       "       -1.99592e-01,  1.25398e-01,  2.72858e-01,  1.09793e-01,\n",
       "       -1.64379e-01,  8.63630e-02,  1.97445e-01, -2.18180e-02,\n",
       "       -1.49784e-01, -3.34461e-01, -4.61000e-04,  1.92640e-02,\n",
       "        2.11149e-01, -2.93349e-01,  5.90160e-02,  1.25044e-01,\n",
       "        7.75570e-02, -2.82863e-01, -3.38890e-02, -9.19950e-02,\n",
       "       -1.43850e-01,  1.45775e-01,  1.04246e-01, -2.60548e-01],\n",
       "      dtype=float32)"
      ]
     },
     "metadata": {},
     "execution_count": 10
    }
   ],
   "metadata": {}
  },
  {
   "cell_type": "code",
   "execution_count": 11,
   "source": [
    "modelo.most_similar(\"china\")"
   ],
   "outputs": [
    {
     "output_type": "execute_result",
     "data": {
      "text/plain": [
       "[('rússia', 0.7320705056190491),\n",
       " ('índia', 0.7241616249084473),\n",
       " ('tailândia', 0.701935887336731),\n",
       " ('indonésia', 0.6860769987106323),\n",
       " ('turquia', 0.6741335988044739),\n",
       " ('malásia', 0.6665689945220947),\n",
       " ('mongólia', 0.6593616008758545),\n",
       " ('manchúria', 0.658184826374054),\n",
       " ('urss', 0.6581669449806213),\n",
       " ('grã-bretanha', 0.6568097472190857)]"
      ]
     },
     "metadata": {},
     "execution_count": 11
    }
   ],
   "metadata": {}
  },
  {
   "cell_type": "code",
   "execution_count": 12,
   "source": [
    "modelo.most_similar(positive=[\"brasil\",\"argentina\"])"
   ],
   "outputs": [
    {
     "output_type": "execute_result",
     "data": {
      "text/plain": [
       "[('chile', 0.6781662702560425),\n",
       " ('peru', 0.634803295135498),\n",
       " ('venezuela', 0.6273865699768066),\n",
       " ('equador', 0.6037014126777649),\n",
       " ('bolívia', 0.6017141342163086),\n",
       " ('haiti', 0.5993806719779968),\n",
       " ('méxico', 0.596230685710907),\n",
       " ('paraguai', 0.5957703590393066),\n",
       " ('uruguai', 0.590367317199707),\n",
       " ('japão', 0.5893509387969971)]"
      ]
     },
     "metadata": {},
     "execution_count": 12
    }
   ],
   "metadata": {}
  },
  {
   "cell_type": "code",
   "execution_count": 13,
   "source": [
    "#nuvens -> nuvem : estrelas - estrela\r\n",
    "#nuvens + estrela - nuvem = estrelas\r\n",
    "\r\n",
    "modelo.most_similar(positive=[\"nuvens\",\"estrela\"],negative=[\"nuvem\"])"
   ],
   "outputs": [
    {
     "output_type": "execute_result",
     "data": {
      "text/plain": [
       "[('estrelas', 0.5497430562973022),\n",
       " ('plêiades', 0.3791979253292084),\n",
       " ('colinas', 0.3746805489063263),\n",
       " ('trovoadas', 0.373703271150589),\n",
       " ('sombras', 0.37341946363449097),\n",
       " ('pombas', 0.3726757764816284),\n",
       " ('corredoras', 0.3640727400779724),\n",
       " ('cigarras', 0.36065396666526794),\n",
       " ('galáxias', 0.35754913091659546),\n",
       " ('luas', 0.3575345277786255)]"
      ]
     },
     "metadata": {},
     "execution_count": 13
    }
   ],
   "metadata": {}
  },
  {
   "cell_type": "code",
   "execution_count": 14,
   "source": [
    "modelo.most_similar(positive=[\"médico\",\"mulher\"],negative=[\"homem\"])"
   ],
   "outputs": [
    {
     "output_type": "execute_result",
     "data": {
      "text/plain": [
       "[('enfermeira', 0.6180862784385681),\n",
       " ('psicóloga', 0.47447532415390015),\n",
       " ('dama-de-companhia', 0.47382354736328125),\n",
       " ('esposa', 0.46559134125709534),\n",
       " ('parteira', 0.46362870931625366),\n",
       " ('mãe', 0.45817679166793823),\n",
       " ('governanta', 0.45722925662994385),\n",
       " ('madrasta', 0.4569782614707947),\n",
       " ('menina', 0.44435903429985046),\n",
       " ('filha', 0.44341111183166504)]"
      ]
     },
     "metadata": {},
     "execution_count": 14
    }
   ],
   "metadata": {}
  },
  {
   "cell_type": "code",
   "execution_count": 15,
   "source": [
    "modelo.most_similar(positive=[\"professor\",\"mulher\"],negative=[\"homem\"])"
   ],
   "outputs": [
    {
     "output_type": "execute_result",
     "data": {
      "text/plain": [
       "[('professora', 0.6192208528518677),\n",
       " ('aluna', 0.5449554324150085),\n",
       " ('esposa', 0.4978230893611908),\n",
       " ('ex-aluna', 0.4884248673915863),\n",
       " ('namorada', 0.4737858772277832),\n",
       " ('enfermeira', 0.4728144407272339),\n",
       " ('filha', 0.467373788356781),\n",
       " ('irmã', 0.4584590792655945),\n",
       " ('ex-namorada', 0.45824769139289856),\n",
       " ('ex-professora', 0.45104706287384033)]"
      ]
     },
     "metadata": {},
     "execution_count": 15
    }
   ],
   "metadata": {}
  },
  {
   "cell_type": "markdown",
   "source": [],
   "metadata": {}
  },
  {
   "cell_type": "markdown",
   "source": [
    "## Vetorização de texto"
   ],
   "metadata": {}
  },
  {
   "cell_type": "code",
   "execution_count": 16,
   "source": [
    "artigo_treino.title.loc[12]"
   ],
   "outputs": [
    {
     "output_type": "execute_result",
     "data": {
      "text/plain": [
       "\"Daniel Craig será stormtrooper em novo 'Star Wars', diz ator\""
      ]
     },
     "metadata": {},
     "execution_count": 16
    }
   ],
   "metadata": {}
  },
  {
   "cell_type": "code",
   "execution_count": 17,
   "source": [
    "import nltk\r\n",
    "import string\r\n",
    "\r\n",
    "#nltk.download('punkt')\r\n",
    "\r\n",
    "def tokenizador(texto):\r\n",
    "    texto = texto.lower()\r\n",
    "    lista_alfanumerico = []\r\n",
    "\r\n",
    "    for token_valido in nltk.word_tokenize(texto):\r\n",
    "        if token_valido in string.punctuation: continue\r\n",
    "        lista_alfanumerico.append(token_valido)\r\n",
    "\r\n",
    "    return lista_alfanumerico\r\n",
    "\r\n",
    "tokenizador(\"Pedro grande sabio, 1234\")"
   ],
   "outputs": [
    {
     "output_type": "execute_result",
     "data": {
      "text/plain": [
       "['pedro', 'grande', 'sabio', '1234']"
      ]
     },
     "metadata": {},
     "execution_count": 17
    }
   ],
   "metadata": {}
  },
  {
   "cell_type": "code",
   "execution_count": 18,
   "source": [
    "import numpy as np\r\n",
    "\r\n",
    "def combinacao_de_vetores_por_soma(palavras_numeros):\r\n",
    "    vertor_resultante = np.zeros(300)\r\n",
    "    for pn in palavras_numeros:\r\n",
    "        try:\r\n",
    "            vertor_resultante += modelo.get_vector(pn)\r\n",
    "        except KeyError:\r\n",
    "            if pn.isnumeric():\r\n",
    "                pn = \"0\"*len(pn)\r\n",
    "                vertor_resultante += modelo.get_vector(pn)\r\n",
    "            else:\r\n",
    "                vertor_resultante += modelo.get_vector(\"unknown\")\r\n",
    "    return vertor_resultante"
   ],
   "outputs": [],
   "metadata": {}
  },
  {
   "cell_type": "code",
   "execution_count": null,
   "source": [
    "palavras_numeros = tokenizador(\"texto exemplo 1\")\r\n",
    "vetor_texto = combinacao_de_vetores_por_soma(palavras_numeros)\r\n",
    "print(len(vetor_texto))\r\n",
    "print(vetor_texto)"
   ],
   "outputs": [],
   "metadata": {}
  },
  {
   "cell_type": "code",
   "execution_count": 20,
   "source": [
    "def matriz_vetores(textos):\r\n",
    "    x = len(textos)\r\n",
    "    y = 300\r\n",
    "    matriz = np.zeros((x,y))\r\n",
    "\r\n",
    "    for i in range(x):\r\n",
    "        palavras_numeros = tokenizador(textos.iloc[i])\r\n",
    "        matriz[i] = combinacao_de_vetores_por_soma(palavras_numeros)\r\n",
    "    return matriz\r\n",
    "\r\n",
    "\r\n",
    "matriz_vetores_treino = matriz_vetores(artigo_treino.title)\r\n",
    "matriz_vetores_teste = matriz_vetores(artigo_teste.title)\r\n",
    "\r\n",
    "print(matriz_vetores_treino.shape)\r\n",
    "print(matriz_vetores_teste.shape)"
   ],
   "outputs": [
    {
     "output_type": "stream",
     "name": "stdout",
     "text": [
      "(90000, 300)\n",
      "(20513, 300)\n"
     ]
    }
   ],
   "metadata": {}
  },
  {
   "cell_type": "code",
   "execution_count": 21,
   "source": [
    "from sklearn.linear_model import LogisticRegression\r\n",
    "\r\n",
    "LR = LogisticRegression(max_iter = 200)\r\n",
    "LR.fit(matriz_vetores_treino, artigo_treino.category)"
   ],
   "outputs": [
    {
     "output_type": "execute_result",
     "data": {
      "text/plain": [
       "LogisticRegression(max_iter=200)"
      ]
     },
     "metadata": {},
     "execution_count": 21
    }
   ],
   "metadata": {}
  },
  {
   "cell_type": "code",
   "execution_count": 22,
   "source": [
    "LR.score(matriz_vetores_teste, artigo_teste.category)"
   ],
   "outputs": [
    {
     "output_type": "execute_result",
     "data": {
      "text/plain": [
       "0.7957880368546775"
      ]
     },
     "metadata": {},
     "execution_count": 22
    }
   ],
   "metadata": {}
  },
  {
   "cell_type": "code",
   "execution_count": 23,
   "source": [
    "from sklearn.metrics import classification_report\r\n",
    "\r\n",
    "label_prevista = LR.predict(matriz_vetores_teste)\r\n",
    "CR = classification_report(artigo_teste.category, label_prevista)\r\n",
    "print(CR)"
   ],
   "outputs": [
    {
     "output_type": "stream",
     "name": "stdout",
     "text": [
      "              precision    recall  f1-score   support\n",
      "\n",
      "     colunas       0.86      0.71      0.78      6103\n",
      "   cotidiano       0.61      0.79      0.69      1698\n",
      "     esporte       0.92      0.88      0.90      4663\n",
      "   ilustrada       0.13      0.88      0.23       131\n",
      "     mercado       0.84      0.79      0.81      5867\n",
      "       mundo       0.74      0.86      0.79      2051\n",
      "\n",
      "    accuracy                           0.80     20513\n",
      "   macro avg       0.68      0.82      0.70     20513\n",
      "weighted avg       0.83      0.80      0.81     20513\n",
      "\n"
     ]
    }
   ],
   "metadata": {}
  },
  {
   "cell_type": "code",
   "execution_count": 24,
   "source": [
    "from sklearn.dummy import DummyClassifier\r\n",
    "\r\n",
    "DC = DummyClassifier()\r\n",
    "DC.fit(matriz_vetores_treino, artigo_treino.category)\r\n",
    "label_prevista_dc = DC.predict(matriz_vetores_teste)\r\n",
    "\r\n",
    "CR_dummy = classification_report(artigo_teste.category, label_prevista_dc)\r\n",
    "print(CR_dummy)"
   ],
   "outputs": [
    {
     "output_type": "stream",
     "name": "stderr",
     "text": [
      "C:\\Users\\Pedro\\AppData\\Local\\Programs\\Python\\Python38\\lib\\site-packages\\sklearn\\dummy.py:131: FutureWarning: The default value of strategy will change from stratified to prior in 0.24.\n",
      "  warnings.warn(\"The default value of strategy will change from \"\n"
     ]
    },
    {
     "output_type": "stream",
     "name": "stdout",
     "text": [
      "              precision    recall  f1-score   support\n",
      "\n",
      "     colunas       0.30      0.17      0.22      6103\n",
      "   cotidiano       0.08      0.16      0.11      1698\n",
      "     esporte       0.23      0.17      0.20      4663\n",
      "   ilustrada       0.01      0.18      0.01       131\n",
      "     mercado       0.30      0.17      0.22      5867\n",
      "       mundo       0.10      0.17      0.12      2051\n",
      "\n",
      "    accuracy                           0.17     20513\n",
      "   macro avg       0.17      0.17      0.15     20513\n",
      "weighted avg       0.24      0.17      0.19     20513\n",
      "\n"
     ]
    }
   ],
   "metadata": {}
  },
  {
   "cell_type": "code",
   "execution_count": 25,
   "source": [
    "modelo_skipgram = KeyedVectors.load_word2vec_format(\"./database/skip_s300.txt\")\r\n",
    "\r\n",
    "\r\n"
   ],
   "outputs": [],
   "metadata": {}
  },
  {
   "cell_type": "code",
   "execution_count": 26,
   "source": [
    "def combinacao_de_vetores_por_soma_skipgram(palavras_numeros):\r\n",
    "    vertor_resultante = np.zeros(300)\r\n",
    "    for pn in palavras_numeros:\r\n",
    "        try:\r\n",
    "            vertor_resultante += modelo_skipgram.get_vector(pn)\r\n",
    "        except KeyError:\r\n",
    "            if pn.isnumeric():\r\n",
    "                pn = \"0\"*len(pn)\r\n",
    "                vertor_resultante += modelo_skipgram.get_vector(pn)\r\n",
    "            else:\r\n",
    "                vertor_resultante += modelo_skipgram.get_vector(\"unknown\")\r\n",
    "    return vertor_resultante\r\n",
    "\r\n",
    "def matriz_vetores_skipgram(textos):\r\n",
    "    x = len(textos)\r\n",
    "    y = 300\r\n",
    "    matriz = np.zeros((x,y))\r\n",
    "\r\n",
    "    for i in range(x):\r\n",
    "        palavras_numeros = tokenizador(textos.iloc[i])\r\n",
    "        matriz[i] = combinacao_de_vetores_por_soma_skipgram(palavras_numeros)\r\n",
    "    return matriz\r\n"
   ],
   "outputs": [],
   "metadata": {}
  },
  {
   "cell_type": "code",
   "execution_count": 27,
   "source": [
    "matriz_vetores_treino_skipgram = matriz_vetores_skipgram(artigo_treino.title)\r\n",
    "matriz_vetores_teste_skipgram = matriz_vetores_skipgram(artigo_teste.title)\r\n",
    "\r\n",
    "#Previsão\r\n",
    "LR_skipgram = LogisticRegression(max_iter=1000)\r\n",
    "\r\n",
    "LR_skipgram.fit(matriz_vetores_treino_skipgram, artigo_treino.category)\r\n",
    "label_previsao_skipgram = LR_skipgram.predict(matriz_vetores_teste_skipgram)\r\n",
    "CR_skipgram = classification_report(artigo_teste.category, label_previsao_skipgram )\r\n",
    "print(CR_skipgram)"
   ],
   "outputs": [
    {
     "output_type": "stream",
     "name": "stdout",
     "text": [
      "              precision    recall  f1-score   support\n",
      "\n",
      "     colunas       0.86      0.72      0.78      6103\n",
      "   cotidiano       0.63      0.81      0.70      1698\n",
      "     esporte       0.93      0.89      0.91      4663\n",
      "   ilustrada       0.15      0.91      0.26       131\n",
      "     mercado       0.84      0.81      0.83      5867\n",
      "       mundo       0.76      0.86      0.80      2051\n",
      "\n",
      "    accuracy                           0.81     20513\n",
      "   macro avg       0.69      0.83      0.71     20513\n",
      "weighted avg       0.84      0.81      0.82     20513\n",
      "\n"
     ]
    }
   ],
   "metadata": {}
  }
 ],
 "metadata": {
  "orig_nbformat": 4,
  "language_info": {
   "name": "python",
   "version": "3.8.6",
   "mimetype": "text/x-python",
   "codemirror_mode": {
    "name": "ipython",
    "version": 3
   },
   "pygments_lexer": "ipython3",
   "nbconvert_exporter": "python",
   "file_extension": ".py"
  },
  "kernelspec": {
   "name": "python3",
   "display_name": "Python 3.8.6 64-bit"
  },
  "interpreter": {
   "hash": "eb1a3d8c7dad79be73d9427f058ed676cf5bd543ef481e776052cfa6e7a46cfb"
  }
 },
 "nbformat": 4,
 "nbformat_minor": 2
}